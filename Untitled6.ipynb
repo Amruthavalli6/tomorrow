{
  "nbformat": 4,
  "nbformat_minor": 0,
  "metadata": {
    "colab": {
      "provenance": []
    },
    "kernelspec": {
      "name": "python3",
      "display_name": "Python 3"
    },
    "language_info": {
      "name": "python"
    }
  },
  "cells": [
    {
      "cell_type": "code",
      "execution_count": null,
      "metadata": {
        "colab": {
          "base_uri": "https://localhost:8080/"
        },
        "id": "6GqvNyVVbVwc",
        "outputId": "c12a5e53-ac84-4cd0-b5cd-ed2f47e1d745"
      },
      "outputs": [
        {
          "output_type": "stream",
          "name": "stdout",
          "text": [
            "Enter the primes p and q: 2 5\n",
            "Enter the message:256\n",
            "public key: {10, 3}\n",
            "Private key: {10, 3}\n",
            "encrypted msg is  6\n",
            "Decrypted msg is  6\n"
          ]
        }
      ],
      "source": [
        "import math\n",
        "p,q=map(int,input('Enter the primes p and q: ').split())\n",
        "n=p*q\n",
        "phi=(p-1)*(q-1)\n",
        "for i in range(2,phi):\n",
        "    if math.gcd(phi,i)==1:\n",
        "        e=i\n",
        "        break\n",
        "d=pow(e,-1,phi)\n",
        "m=int(input(\"Enter the message:\"))\n",
        "ct=pow(m,e,n)\n",
        "print(\"public key:\",{e,n})\n",
        "print(\"Private key:\",{d,n})\n",
        "print(\"encrypted msg is \",ct)\n",
        "print(\"Decrypted msg is \",pow(ct,d,n))"
      ]
    },
    {
      "cell_type": "code",
      "source": [
        "import random\n",
        "\n",
        "# Input prime number and primitive root\n",
        "p = int(input(\"Enter a prime number (p): \"))\n",
        "g = int(input(\"Enter primitive root of p (g): \"))\n",
        "\n",
        "# Alice's private and public keys\n",
        "a = random.randint(2, p - 2)\n",
        "A = pow(g, a, p)\n",
        "print(f\"\\nAlice's private key (a): {a}\")\n",
        "print(f\"Alice's public key (A): {A}\")\n",
        "\n",
        "# Bob's private and public keys\n",
        "b = random.randint(2, p - 2)\n",
        "B = pow(g, b, p)\n",
        "print(f\"\\nBob's private key (b): {b}\")\n",
        "print(f\"Bob's public key (B): {B}\")\n",
        "\n",
        "# Shared secret calculation\n",
        "alice_secret = pow(B, a, p)\n",
        "bob_secret = pow(A, b, p)\n",
        "\n",
        "print(f\"\\nAlice's shared secret: {alice_secret}\")\n",
        "print(f\"Bob's shared secret:   {bob_secret}\")\n",
        "\n",
        "# Verification\n",
        "if alice_secret == bob_secret:\n",
        "    print(\"\\n✅ Shared secret successfully established!\")\n",
        "else:\n",
        "    print(\"\\n❌ Shared secret mismatch!\")\n",
        "\n"
      ],
      "metadata": {
        "colab": {
          "base_uri": "https://localhost:8080/"
        },
        "id": "OzA2h8Rbbdf2",
        "outputId": "065e95dd-ab3f-4fd0-c84b-a20dff635b8d"
      },
      "execution_count": null,
      "outputs": [
        {
          "output_type": "stream",
          "name": "stdout",
          "text": [
            "Enter a prime number (p): 23\n",
            "Enter primitive root of p (g): 5\n",
            "\n",
            "Alice's private key (a): 7\n",
            "Alice's public key (A): 17\n",
            "\n",
            "Bob's private key (b): 19\n",
            "Bob's public key (B): 7\n",
            "\n",
            "Alice's shared secret: 5\n",
            "Bob's shared secret:   5\n",
            "\n",
            "✅ Shared secret successfully established!\n"
          ]
        }
      ]
    },
    {
      "cell_type": "code",
      "source": [
        "#Implementation of Digital Signature Standard (DSS) for generating and verifying Digital Signatures.\n",
        "import hashlib, random\n",
        "\n",
        "def generate_keys(p, q, h):\n",
        "    g = pow(h, (p-1)//q, p)\n",
        "    x = random.randint(1, q-1)\n",
        "    y = pow(g, x, p)\n",
        "    return (p, q, g, y), x\n",
        "\n",
        "def sign_message(M, x, p, q, g):\n",
        "    H = int(hashlib.sha1(M.encode()).hexdigest(), 16)\n",
        "    while True:\n",
        "        k = random.randint(1, q-1)\n",
        "        r = pow(g, k, p) % q\n",
        "        if r == 0:\n",
        "            continue\n",
        "        try:\n",
        "            k_inv = pow(k, -1, q)\n",
        "        except ValueError:\n",
        "            continue\n",
        "        s = (k_inv * (H + x*r)) % q\n",
        "        if s != 0:\n",
        "            break\n",
        "    return (r, s)\n",
        "\n",
        "def verify_signature(M, sig, pub):\n",
        "    r, s = sig\n",
        "    p, q, g, y = pub\n",
        "    if not (0 < r < q) or not (0 < s < q):\n",
        "        return False\n",
        "    H = int(hashlib.sha1(M.encode()).hexdigest(), 16)\n",
        "    try:\n",
        "        w = pow(s, -1, q)\n",
        "    except ValueError:\n",
        "        return False\n",
        "    u1 = (H * w) % q\n",
        "    u2 = (r * w) % q\n",
        "    v = (pow(g, u1, p) * pow(y, u2, p) % p) % q\n",
        "    return v == r\n",
        "\n",
        "p = 47\n",
        "q = 23\n",
        "h = 2\n",
        "\n",
        "pub, priv = generate_keys(p, q, h)\n",
        "\n",
        "msg = input(\"Enter the message to sign: \")\n",
        "sig = sign_message(msg, priv, p, q, pub[2])\n",
        "print(\"Signature:\", sig)\n",
        "print(\"Signature valid?\", verify_signature(msg, sig, pub))\n"
      ],
      "metadata": {
        "colab": {
          "base_uri": "https://localhost:8080/"
        },
        "id": "tSW-H59ZbioA",
        "outputId": "84626544-2d77-4d86-82b2-95e2a4f0bd1b"
      },
      "execution_count": null,
      "outputs": [
        {
          "output_type": "stream",
          "name": "stdout",
          "text": [
            "Enter the message to sign: amrutha\n",
            "Signature: (14, 18)\n",
            "Signature valid? True\n"
          ]
        }
      ]
    },
    {
      "cell_type": "code",
      "source": [
        "openssl genpkey -algorithm RSA -out private.key -pkeyopt rsa_keygen_bits:2048\n",
        "\n",
        "openssl req -new -key private.key -out request.csr\n",
        "\n",
        "openssl req -x509 -key private.key -in request.csr -out certificate.crt -days 365\n",
        "\n",
        "openssl pkcs12 -export -out bundle.p12 -inkey private.key -in certificate.crt\n",
        "\n",
        "openssl x509 -in certificate.crt -text -noout\n",
        "\n",
        "openssl s_client -connect example.com:443"
      ],
      "metadata": {
        "id": "m1fzShqtbsVV"
      },
      "execution_count": null,
      "outputs": []
    },
    {
      "cell_type": "code",
      "source": [
        "sudo mkdir -p /etc/snort/rules\n",
        "\n",
        "sudo touch /etc/snort/rules/local.rules\n",
        "\n",
        "sudo nano /etc/snort/rules/local.rules\n",
        "\n",
        "#Paste this in that\n",
        "alert icmp any any -> any any (msg:\"Ping detected\"; sid:1000001;)\n",
        "\n",
        "sudo snort -A console -q -c /etc/snort/snort.conf -i lo\n",
        "\n",
        "#open another terminal\n",
        "ping localhost\n",
        "\n",
        "#See in the first terminal it will be detected"
      ],
      "metadata": {
        "id": "b0TcPKZvbxMr"
      },
      "execution_count": null,
      "outputs": []
    },
    {
      "cell_type": "code",
      "source": [
        "#SHA\n",
        "K = [\n",
        "    0x428a2f98, 0x71374491, 0xb5c0fbcf, 0xe9b5dba5, 0x3956c25b, 0x59f111f1, 0x923f82a4, 0xab1c5ed5,\n",
        "    0xd807aa98, 0x12835b01, 0x243185be, 0x550c7dc3, 0x72be5d74, 0x80deb1fe, 0x9bdc06a7, 0xc19bf174,\n",
        "    0xe49b69c1, 0xefbe4786, 0x0fc19dc6, 0x240ca1cc, 0x2de92c6f, 0x4a7484aa, 0x5cb0a9dc, 0x76f988da,\n",
        "    0x983e5152, 0xa831c66d, 0xb00327c8, 0xbf597fc7, 0xc6e00bf3, 0xd5a79147, 0x06ca6351, 0x14292967,\n",
        "    0x27b70a85, 0x2e1b2138, 0x4d2c6dfc, 0x53380d13, 0x650a7354, 0x766a0abb, 0x81c2c92e, 0x92722c85,\n",
        "    0xa2bfe8a1, 0xa81a664b, 0xc24b8b70, 0xc76c51a3, 0xd192e819, 0xd6990624, 0xf40e3585, 0x106aa070,\n",
        "    0x19a4c116, 0x1e376c08, 0x2748774c, 0x34b0bcb5, 0x391c0cb3, 0x4ed8aa4a, 0x5b9cca4f, 0x682e6ff3,\n",
        "    0x748f82ee, 0x78a5636f, 0x84c87814, 0x8cc70208, 0x90befffa, 0xa4506ceb, 0xbef9a3f7, 0xc67178f2,\n",
        "]\n",
        "H = [\n",
        "    0x6a09e667, 0xbb67ae85, 0x3c6ef372, 0xa54ff53a,\n",
        "    0x510e527f, 0x9b05688c, 0x1f83d9ab, 0x5be0cd19,\n",
        "]\n",
        "def rotr(x, n):\n",
        "    return ((x >> n) | (x << (32 - n))) & 0xffffffff\n",
        "def pad_message(msg):\n",
        "    l = len(msg) * 8\n",
        "    msg += b'\\x80'\n",
        "    while (len(msg) * 8 + 64) % 512 != 0:\n",
        "        msg += b'\\x00'\n",
        "    msg += l.to_bytes(8, 'big')\n",
        "    return msg\n",
        "def sha256(msg):\n",
        "    msg = pad_message(msg)\n",
        "    h = H[:]\n",
        "    for i in range(0, len(msg), 64):\n",
        "        block = msg[i:i+64]\n",
        "        w = [int.from_bytes(block[j:j+4], 'big') for j in range(0, 64, 4)]\n",
        "        w += [0] * 48\n",
        "        for j in range(16, 64):\n",
        "            s0 = rotr(w[j-15], 7) ^ rotr(w[j-15], 18) ^ (w[j-15] >> 3)\n",
        "            s1 = rotr(w[j-2], 17) ^ rotr(w[j-2], 19) ^ (w[j-2] >> 10)\n",
        "            w[j] = (w[j-16] + s0 + w[j-7] + s1) & 0xffffffff\n",
        "        a, b, c, d, e, f, g, hh = h\n",
        "        for j in range(64):\n",
        "            S1 = rotr(e, 6) ^ rotr(e, 11) ^ rotr(e, 25)\n",
        "            ch = (e & f) ^ (~e & g)\n",
        "            temp1 = (hh + S1 + ch + K[j] + w[j]) & 0xffffffff\n",
        "            S0 = rotr(a, 2) ^ rotr(a, 13) ^ rotr(a, 22)\n",
        "            maj = (a & b) ^ (a & c) ^ (b & c)\n",
        "            temp2 = (S0 + maj) & 0xffffffff\n",
        "            hh, g, f, e, d, c, b, a = g, f, e, (d + temp1) & 0xffffffff, c, b, a, (temp1 + temp2) & 0xffffffff\n",
        "        h = [(x+y) & 0xffffffff for x,y in zip(h, [a,b,c,d,e,f,g,hh])]\n",
        "    return ''.join(f'{x:08x}' for x in h)\n",
        "if __name__ == \"__main__\":\n",
        "    msg = input(\"Enter message: \")\n",
        "    print(sha256(msg.encode('utf-8')))\n",
        "    msg = input(\"Enter message: \")\n",
        "    print(sha256(msg.encode('utf-8')))"
      ],
      "metadata": {
        "colab": {
          "base_uri": "https://localhost:8080/"
        },
        "id": "SL8Ply0ib29x",
        "outputId": "a08cece9-0794-4990-9359-f6c3704b0036"
      },
      "execution_count": null,
      "outputs": [
        {
          "output_type": "stream",
          "name": "stdout",
          "text": [
            "Enter message: hi\n",
            "8f434346648f6b96df89dda901c5176b10a6d83961dd3c1ac88b59b2dc327aa4\n",
            "Enter message: hi\n",
            "8f434346648f6b96df89dda901c5176b10a6d83961dd3c1ac88b59b2dc327aa4\n"
          ]
        }
      ]
    },
    {
      "cell_type": "code",
      "source": [
        "import struct\n",
        "def rotr(x, n):\n",
        "    return (x >> n) | (x << (32 - n)) & 0xFFFFFFFF\n",
        "K = [\n",
        "    0x428a2f98, 0x71374491, 0xb5c0fbcf, 0xe9b5dba5,\n",
        "    0x3956c25b, 0x59f111f1, 0x923f82a4, 0xab1c5ed5,\n",
        "    0xd807aa98, 0x12835b01, 0x243185be, 0x550c7dc3,\n",
        "    0x72be5d74, 0x80deb1fe, 0x9bdc06a7, 0xc19bf174,\n",
        "    0xe49b69c1, 0xefbe4786, 0x0fc19dc6, 0x240ca1cc,\n",
        "    0x2de92c6f, 0x4a7484aa, 0x5cb0a9dc, 0x76f988da,\n",
        "    0x983e5152, 0xa831c66d, 0xb00327c8, 0xbf597fc7,\n",
        "    0xc6e00bf3, 0xd5a79147, 0x06ca6351, 0x14292967,\n",
        "    0x27b70a85, 0x2e1b2138, 0x4d2c6dfc, 0x53380d13,\n",
        "    0x650a7354, 0x766a0abb, 0x81c2c92e, 0x92722c85,\n",
        "    0xa2bfe8a1, 0xa81a664b, 0xc24b8b70, 0xc76c51a3,\n",
        "    0xd192e819, 0xd6990624, 0xf40e3585, 0x106aa070,\n",
        "    0x19a4c116, 0x1e376c08, 0x2748774c, 0x34b0bcb5,\n",
        "    0x391c0cb3, 0x4ed8aa4a, 0x5b9cca4f, 0x682e6ff3,\n",
        "    0x748f82ee, 0x78a5636f, 0x84c87814, 0x8cc70208,\n",
        "    0x90befffa, 0xa4506ceb, 0xbef9a3f7, 0xc67178f2,\n",
        "]\n",
        "H = [\n",
        "    0x6a09e667,\n",
        "    0xbb67ae85,\n",
        "    0x3c6ef372,\n",
        "    0xa54ff53a,\n",
        "    0x510e527f,\n",
        "    0x9b05688c,\n",
        "    0x1f83d9ab,\n",
        "    0x5be0cd19,\n",
        "]\n",
        "def sha256(message):\n",
        "    if isinstance(message, str):\n",
        "        message = message.encode()\n",
        "    original_length = len(message) * 8\n",
        "    message += b'\\x80'\n",
        "    while (len(message) * 8) % 512 != 448:\n",
        "        message += b'\\x00'\n",
        "    message += struct.pack('>Q', original_length)\n",
        "    chunks = [message[i:i+64] for i in range(0, len(message), 64)]\n",
        "    h = H[:]\n",
        "    for chunk in chunks:\n",
        "        w = list(struct.unpack('>16L', chunk)) + [0]*48\n",
        "        for i in range(16, 64):\n",
        "            s0 = rotr(w[i-15], 7) ^ rotr(w[i-15], 18) ^ (w[i-15] >> 3)\n",
        "            s1 = rotr(w[i-2], 17) ^ rotr(w[i-2], 19) ^ (w[i-2] >> 10)\n",
        "            w[i] = (w[i-16] + s0 + w[i-7] + s1) & 0xFFFFFFFF\n",
        "        a, b, c, d, e, f, g, h0 = h\n",
        "        for i in range(64):\n",
        "            S1 = rotr(e, 6) ^ rotr(e, 11) ^ rotr(e, 25)\n",
        "            ch = (e & f) ^ (~e & g)\n",
        "            temp1 = (h0 + S1 + ch + K[i] + w[i]) & 0xFFFFFFFF\n",
        "            S0 = rotr(a, 2) ^ rotr(a, 13) ^ rotr(a, 22)\n",
        "            maj = (a & b) ^ (a & c) ^ (b & c)\n",
        "            temp2 = (S0 + maj) & 0xFFFFFFFF\n",
        "            h0 = g\n",
        "            g = f\n",
        "            f = e\n",
        "            e = (d + temp1) & 0xFFFFFFFF\n",
        "            d = c\n",
        "            c = b\n",
        "            b = a\n",
        "            a = (temp1 + temp2) & 0xFFFFFFFF\n",
        "        h = [\n",
        "            (h[0] + a) & 0xFFFFFFFF,\n",
        "            (h[1] + b) & 0xFFFFFFFF,\n",
        "            (h[2] + c) & 0xFFFFFFFF,\n",
        "            (h[3] + d) & 0xFFFFFFFF,\n",
        "            (h[4] + e) & 0xFFFFFFFF,\n",
        "            (h[5] + f) & 0xFFFFFFFF,\n",
        "            (h[6] + g) & 0xFFFFFFFF,\n",
        "            (h[7] + h0) & 0xFFFFFFFF,\n",
        "        ]\n",
        "    return ''.join(f'{value:08x}' for value in h)\n",
        "text = input(\"Enter input:\")\n",
        "print(\"SHA-256:\", sha256(text))\n"
      ],
      "metadata": {
        "id": "H-qzz7wtb54X"
      },
      "execution_count": null,
      "outputs": []
    }
  ]
}